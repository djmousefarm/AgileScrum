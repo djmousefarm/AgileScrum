{
  "nbformat": 4,
  "nbformat_minor": 0,
  "metadata": {
    "colab": {
      "provenance": [],
      "authorship_tag": "ABX9TyMYhS+u4Ey0qMm015OwX+qN",
      "include_colab_link": true
    },
    "kernelspec": {
      "name": "python3",
      "display_name": "Python 3"
    },
    "language_info": {
      "name": "python"
    }
  },
  "cells": [
    {
      "cell_type": "markdown",
      "metadata": {
        "id": "view-in-github",
        "colab_type": "text"
      },
      "source": [
        "<a href=\"https://colab.research.google.com/github/djmousefarm/AgileScrum/blob/master/example_of_classes.ipynb\" target=\"_parent\"><img src=\"https://colab.research.google.com/assets/colab-badge.svg\" alt=\"Open In Colab\"/></a>"
      ]
    },
    {
      "cell_type": "code",
      "execution_count": null,
      "metadata": {
        "id": "KlEJIVzPpLGy"
      },
      "outputs": [],
      "source": [
        "# Classes\n",
        "\n",
        "class Animal:\n",
        "  def walk(self):\n",
        "    print(\"Walking...\")\n",
        "\n",
        "class Dog(Animal):                      # Inheritance - this inherits the walk method from the Animal class\n",
        "  def __init__(self, name, age):          # Constructor method\n",
        "    self.name = name\n",
        "    self.age = age\n",
        "\n",
        "  def bark(self):      # self is a reference to the current instance of the class\n",
        "    print(\"Meow\")      # A class should have a method that does something\n",
        "\n",
        "roger = Dog(\"Roger\", 8)          # Create an instance of the class\n",
        "\n",
        "print(type(roger))     # <class '__main__.Dog'>\n",
        "print(roger.name)      # Roger\n",
        "print(roger.age)        # 8\n",
        "\n",
        "print(roger.bark())     # Meow (None)\n",
        "\n",
        "roger.bark()            # Meow (or change the print statement to return instead of print)\n",
        "\n",
        "roger.walk()"
      ]
    }
  ]
}